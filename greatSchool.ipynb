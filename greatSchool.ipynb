{
 "cells": [
  {
   "cell_type": "code",
   "execution_count": 1,
   "metadata": {},
   "outputs": [],
   "source": [
    "from selenium.webdriver import Chrome\n",
    "from lxml import etree\n",
    "from time import sleep\n",
    "import pandas as pd\n",
    "from selenium.webdriver.common.by import By"
   ]
  },
  {
   "cell_type": "code",
   "execution_count": 7,
   "metadata": {},
   "outputs": [],
   "source": [
    "def greatschool(address):\n",
    "    web = Chrome()\n",
    "    web.get('https://www.greatschools.org/')\n",
    "    search_input = web.find_element(By.XPATH,'//*[@id=\"home-page\"]/div[1]/div/section/div[1]/div[1]/div/div/div/div[1]/form/input')\n",
    "    search_input.send_keys(address)\n",
    "    btn = web.find_element_by_css_selector('.search_form_button')\n",
    "    sleep(3)\n",
    "    btn.click()\n",
    "    sleep(3)\n",
    "    li_list = web.find_elements_by_xpath('//*[@id=\"search-page\"]/div/div/div[3]/div[1]/section/ol/li')\n",
    "    \n",
    "    aa=[]\n",
    "    for li in li_list:\n",
    "        try:\n",
    "            if li.find_element_by_xpath('./div').text == 'Assigned school':\n",
    "                score = li.find_element_by_xpath('./span/div/span/div').text\n",
    "                grade = li.find_element_by_xpath('./span[2]/div[2]/span[1]').text\n",
    "                aa.extend((address,grade,score))\n",
    "\n",
    "        except Exception:\n",
    "            pass\n",
    "   \n",
    "    web.quit()\n",
    "    return aa"
   ]
  },
  {
   "cell_type": "code",
   "execution_count": null,
   "metadata": {},
   "outputs": [],
   "source": []
  }
 ],
 "metadata": {
  "kernelspec": {
   "display_name": "Python 3",
   "language": "python",
   "name": "python3"
  },
  "language_info": {
   "codemirror_mode": {
    "name": "ipython",
    "version": 3
   },
   "file_extension": ".py",
   "mimetype": "text/x-python",
   "name": "python",
   "nbconvert_exporter": "python",
   "pygments_lexer": "ipython3",
   "version": "3.7.6"
  },
  "latex_envs": {
   "LaTeX_envs_menu_present": true,
   "autoclose": false,
   "autocomplete": true,
   "bibliofile": "biblio.bib",
   "cite_by": "apalike",
   "current_citInitial": 1,
   "eqLabelWithNumbers": true,
   "eqNumInitial": 1,
   "hotkeys": {
    "equation": "Ctrl-E",
    "itemize": "Ctrl-I"
   },
   "labels_anchors": false,
   "latex_user_defs": false,
   "report_style_numbering": false,
   "user_envs_cfg": false
  },
  "toc": {
   "base_numbering": 1,
   "nav_menu": {},
   "number_sections": true,
   "sideBar": true,
   "skip_h1_title": false,
   "title_cell": "Table of Contents",
   "title_sidebar": "Contents",
   "toc_cell": false,
   "toc_position": {},
   "toc_section_display": true,
   "toc_window_display": false
  }
 },
 "nbformat": 4,
 "nbformat_minor": 4
}
