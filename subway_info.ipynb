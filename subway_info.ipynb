{
 "cells": [
  {
   "cell_type": "code",
   "execution_count": 1,
   "metadata": {},
   "outputs": [],
   "source": [
    "from selenium.webdriver import Chrome\n",
    "from lxml import etree\n",
    "from time import sleep\n",
    "from selenium.webdriver.common.keys import Keys\n",
    "import pandas as pd"
   ]
  },
  {
   "cell_type": "code",
   "execution_count": 31,
   "metadata": {},
   "outputs": [],
   "source": [
    "def subway_info(address):\n",
    "    web=Chrome()\n",
    "    web.get(\"https://www.cityrealty.com/nyc\")\n",
    "\n",
    "    web.find_element_by_xpath('//*[@id=\"welcome-autocomplete\"]').send_keys(address)\n",
    "    sleep(3)\n",
    "    el = web.find_element_by_xpath('//*[@id=\"nbh\"]/div[1]/div[1]/div/div[2]/div[2]/cr-welcome-search/div/form/div/div/div/div[3]/div[2]/div/button/span[1]')\n",
    "    el.click()\n",
    "    sleep(3)\n",
    "    \n",
    "    #get subway_info\n",
    "    subway_Details=[address]\n",
    "    li_list = web.find_elements_by_xpath('//*[@id=\"transit\"]/div')\n",
    "    for li in li_list:\n",
    "        subway_Details.append(li.find_element_by_xpath(\"./span\").text)\n",
    " \n",
    "    web.quit()\n",
    "    return subway_Details"
   ]
  }
 ],
 "metadata": {
  "kernelspec": {
   "display_name": "Python 3",
   "language": "python",
   "name": "python3"
  },
  "language_info": {
   "codemirror_mode": {
    "name": "ipython",
    "version": 3
   },
   "file_extension": ".py",
   "mimetype": "text/x-python",
   "name": "python",
   "nbconvert_exporter": "python",
   "pygments_lexer": "ipython3",
   "version": "3.7.6"
  },
  "latex_envs": {
   "LaTeX_envs_menu_present": true,
   "autoclose": false,
   "autocomplete": true,
   "bibliofile": "biblio.bib",
   "cite_by": "apalike",
   "current_citInitial": 1,
   "eqLabelWithNumbers": true,
   "eqNumInitial": 1,
   "hotkeys": {
    "equation": "Ctrl-E",
    "itemize": "Ctrl-I"
   },
   "labels_anchors": false,
   "latex_user_defs": false,
   "report_style_numbering": false,
   "user_envs_cfg": false
  },
  "toc": {
   "base_numbering": 1,
   "nav_menu": {},
   "number_sections": true,
   "sideBar": true,
   "skip_h1_title": false,
   "title_cell": "Table of Contents",
   "title_sidebar": "Contents",
   "toc_cell": false,
   "toc_position": {},
   "toc_section_display": true,
   "toc_window_display": false
  }
 },
 "nbformat": 4,
 "nbformat_minor": 4
}
