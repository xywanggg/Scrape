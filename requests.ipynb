{
 "cells": [
  {
   "cell_type": "code",
   "execution_count": 1,
   "metadata": {},
   "outputs": [],
   "source": [
    "# /robots.txt 君子协议"
   ]
  },
  {
   "cell_type": "code",
   "execution_count": 1,
   "metadata": {},
   "outputs": [],
   "source": [
    "import requests\n",
    "import json\n",
    "import os"
   ]
  },
  {
   "cell_type": "markdown",
   "metadata": {},
   "source": [
    "# requests"
   ]
  },
  {
   "cell_type": "code",
   "execution_count": null,
   "metadata": {},
   "outputs": [],
   "source": [
    "# requests 模块 (urllib/requests)\n",
    "# 指定 url\n",
    "# 发起请求\n",
    "# 获取响应数据\n",
    "# 持久化储存"
   ]
  },
  {
   "cell_type": "code",
   "execution_count": 5,
   "metadata": {},
   "outputs": [
    {
     "name": "stdout",
     "output_type": "stream",
     "text": [
      "over\n"
     ]
    }
   ],
   "source": [
    "# request try\n",
    "if __name__==\"__main__\":\n",
    "    url='https://scholar.google.com/'\n",
    "    response = requests.get(url=url)\n",
    "    page_text = response.text\n",
    "    #print(page_text)\n",
    "    with open('./scholar.html', 'w', encoding='utf-8') as fp:\n",
    "        fp.write(page_text)\n",
    "    print('over')"
   ]
  },
  {
   "cell_type": "code",
   "execution_count": 6,
   "metadata": {},
   "outputs": [
    {
     "name": "stdout",
     "output_type": "stream",
     "text": [
      "enter a word: 菠萝\n",
      "菠萝.html over\n"
     ]
    }
   ],
   "source": [
    "#request - 网页采集器\n",
    "if __name__==\"__main__\":\n",
    "    headers = {\n",
    "        'User-Agent': 'Mozilla/5.0 (Windows NT 10.0; Win64; x64) AppleWebKit/537.36 (KHTML, like Gecko) Chrome/88.0.4324.190 Safari/537.36'\n",
    "    } #User-Agent 伪装\n",
    "    \n",
    "    url='https://www.sogou.com/web'\n",
    "    kw = input('enter a word: ')\n",
    "    param = {\n",
    "        'query': kw\n",
    "    }\n",
    "    \n",
    "    response = requests.get(url=url, params=param, headers=headers)\n",
    "    page_text = response.text\n",
    "    \n",
    "    fileName = kw+'.html'\n",
    "    with open(fileName, 'w', encoding='utf-8') as fp:\n",
    "        fp.write(page_text)\n",
    "    print(fileName, 'over')"
   ]
  },
  {
   "cell_type": "code",
   "execution_count": 14,
   "metadata": {},
   "outputs": [
    {
     "name": "stdout",
     "output_type": "stream",
     "text": [
      "enter a word: word\n",
      "{'errno': 0, 'data': [{'k': 'word', 'v': 'n. 单词; 话语; 诺言; 消息 vt. 措辞，用词; 用言语表达 vi. 讲话'}, {'k': 'Word', 'v': '微软公司生产的文字处理软件。; [人名] 沃德'}, {'k': 'words', 'v': 'n. 字( word的名词复数 ); （说的）话; 诺言; 口令'}, {'k': 'Words', 'v': '[医]言语'}, {'k': 'WORDS', 'v': 'abbr. Western Operational Research Discussion Soci'}]}\n",
      "over!\n"
     ]
    }
   ],
   "source": [
    "#百度翻译---动态加载\n",
    "if __name__==\"__main__\":\n",
    "    \n",
    "    post_url = 'https://fanyi.baidu.com/sug'\n",
    "    headers = {\n",
    "        'User-Agent':'Mozilla/5.0 (Windows NT 10.0; Win64; x64) AppleWebKit/537.36 (KHTML, like Gecko) Chrome/88.0.4324.190 Safari/537.36'\n",
    "    } \n",
    "    word = input('enter a word: ')\n",
    "    data={\n",
    "        'kw': word\n",
    "    }\n",
    "    response = requests.post(url=post_url,data=data,headers=headers)\n",
    "    dic_obj = response.json()\n",
    "    print(dic_obj)\n",
    "    fileName=word+'.json'\n",
    "    fp = open(fileName,'w',encoding='utf-8')\n",
    "    json.dump(dic_obj,fp=fp,ensure_ascii=False)\n",
    "    print('over!')\n",
    "    "
   ]
  },
  {
   "cell_type": "code",
   "execution_count": 28,
   "metadata": {
    "scrolled": true
   },
   "outputs": [
    {
     "name": "stdout",
     "output_type": "stream",
     "text": [
      "over!!\n"
     ]
    }
   ],
   "source": [
    "#豆瓣电影\n",
    "if __name__==\"__main__\":\n",
    "    \n",
    "    url = 'https://movie.douban.com/j/chart/top_list'\n",
    "    param ={\n",
    "        'type': '24',\n",
    "        'interval_id': '100:90',\n",
    "        'action': '',\n",
    "        'start': '0',\n",
    "        'limit': '5'\n",
    "    }\n",
    "    headers = {\n",
    "        'User-Agent':'Mozilla/5.0 (Windows NT 10.0; Win64; x64) AppleWebKit/537.36 (KHTML, like Gecko) Chrome/88.0.4324.190 Safari/537.36'\n",
    "    }\n",
    "    response = requests.get(url=url, params=param, headers=headers)\n",
    "    list_data = response.json()\n",
    "    #print(list_data)\n",
    "    fp = open('./douban.json','w', encoding='utf-8')\n",
    "    json.dump(list_data, fp=fp,ensure_ascii=False)\n",
    "    print('over!!')"
   ]
  },
  {
   "cell_type": "code",
   "execution_count": 27,
   "metadata": {},
   "outputs": [
    {
     "name": "stdout",
     "output_type": "stream",
     "text": [
      "over\n"
     ]
    }
   ],
   "source": [
    "#药监总局数据\n",
    "#动态加载 Network-->XHR\n",
    "if __name__==\"__main__\":\n",
    "    \n",
    "    #首页 - 获取ID\n",
    "    post_url = 'http://scxk.nmpa.gov.cn:81/xk/itownet/portalAction.do?method=getXkzsList'\n",
    "    headers = {\n",
    "        'User-Agent':'Mozilla/5.0 (Windows NT 10.0; Win64; x64) AppleWebKit/537.36 (KHTML, like Gecko) Chrome/88.0.4324.190 Safari/537.36'\n",
    "    } \n",
    "        \n",
    "    id_list=[] #存id\n",
    "    all_data_list=[]#存详情信息\n",
    "    \n",
    "    for page in range(1,4):\n",
    "        page = str(page)\n",
    "        data={\n",
    "            'on': 'true',\n",
    "            'page': page,\n",
    "            'pageSize': '15',\n",
    "            'productName': '',\n",
    "            'conditionType': '1',\n",
    "            'applyname': '',\n",
    "            'applysn': ''\n",
    "        }\n",
    "    \n",
    "        json_ids = requests.post(url=post_url,data=data,headers=headers).json()\n",
    "        for dic in json_ids['list']:\n",
    "            id_list.append(dic['ID'])\n",
    "    \n",
    "    # 第二页 获取详情数据\n",
    "    post_url = 'http://scxk.nmpa.gov.cn:81/xk/itownet/portalAction.do?method=getXkzsById'\n",
    "    for i in id_list:\n",
    "        data={\n",
    "            'id':i\n",
    "        }\n",
    "        detail_json=requests.post(url=post_url, headers=headers, data=data).json()\n",
    "        #print(detail_json)\n",
    "        all_data_list.append(detail_json)\n",
    "      \n",
    "    #存储\n",
    "    fp=open('./allData.json','w', encoding='utf-8')\n",
    "    json.dump(all_data_list, fp=fp, ensure_ascii=False)\n",
    "    print('over')"
   ]
  }
 ],
 "metadata": {
  "kernelspec": {
   "display_name": "Python 3",
   "language": "python",
   "name": "python3"
  },
  "language_info": {
   "codemirror_mode": {
    "name": "ipython",
    "version": 3
   },
   "file_extension": ".py",
   "mimetype": "text/x-python",
   "name": "python",
   "nbconvert_exporter": "python",
   "pygments_lexer": "ipython3",
   "version": "3.7.6"
  },
  "latex_envs": {
   "LaTeX_envs_menu_present": true,
   "autoclose": false,
   "autocomplete": true,
   "bibliofile": "biblio.bib",
   "cite_by": "apalike",
   "current_citInitial": 1,
   "eqLabelWithNumbers": true,
   "eqNumInitial": 1,
   "hotkeys": {
    "equation": "Ctrl-E",
    "itemize": "Ctrl-I"
   },
   "labels_anchors": false,
   "latex_user_defs": false,
   "report_style_numbering": false,
   "user_envs_cfg": false
  },
  "toc": {
   "base_numbering": 1,
   "nav_menu": {},
   "number_sections": true,
   "sideBar": true,
   "skip_h1_title": false,
   "title_cell": "Table of Contents",
   "title_sidebar": "Contents",
   "toc_cell": false,
   "toc_position": {},
   "toc_section_display": true,
   "toc_window_display": false
  }
 },
 "nbformat": 4,
 "nbformat_minor": 2
}
