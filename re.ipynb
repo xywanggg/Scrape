{
 "cells": [
  {
   "cell_type": "code",
   "execution_count": null,
   "metadata": {},
   "outputs": [],
   "source": [
    "# *聚焦爬虫* 步骤：\n",
    "# 指定 url\n",
    "# 发起请求\n",
    "# 获取响应数据\n",
    "# 数据解析\n",
    "# 持久化储存"
   ]
  },
  {
   "cell_type": "markdown",
   "metadata": {},
   "source": [
    "## RE"
   ]
  },
  {
   "cell_type": "code",
   "execution_count": 15,
   "metadata": {},
   "outputs": [],
   "source": [
    "import re"
   ]
  },
  {
   "cell_type": "code",
   "execution_count": null,
   "metadata": {},
   "outputs": [],
   "source": [
    "'''\n",
    "单字符：\n",
    ". : 除换行以外所有字符\n",
    "[]：[a-w] 匹配集合中任意一个字符\n",
    "\\d: 数字 [0-9]\n",
    "\\D: 非数字\n",
    "\\w: 数字，字母，下划线，中文\n",
    "\\W: 非\\w\n",
    "\\s: 所有的空白字符包，括空格，制表符，换页符等等，等价于[\\f\\n\\r\\t\\v]\n",
    "\\S: 非空白\n",
    "\n",
    "数量修饰：\n",
    "* : 任意多次\n",
    "+ : 至少一次\n",
    "? : 可有可无，0次或1次\n",
    "{m}: 固定m次 hello{3,}\n",
    "{m,n}: m-n次\n",
    "\n",
    "边界：\n",
    "$ : 以某某结尾\n",
    "^ : 以某某开头\n",
    "\n",
    "分组：\n",
    "(ab)\n",
    "贪婪模式： .*\n",
    "非贪婪（惰性）模式： .*?\n",
    "\n",
    "re.I: 忽略大小写\n",
    "re.M: 多行匹配\n",
    "re.S: 单行匹配\n",
    "\n",
    "re.sub(正则表达式，替换内容，字符串)\n",
    "re.findall()\n",
    "'''"
   ]
  },
  {
   "cell_type": "code",
   "execution_count": 3,
   "metadata": {
    "code_folding": [
     1
    ]
   },
   "outputs": [],
   "source": [
    "#爬取图片\n",
    "if __name__==\"__main__\":\n",
    "    url = 'https://pic.qiushibaike.com/system/pictures/12413/124132495/medium/EJAN0N6LJAF4COP4.jpg'\n",
    "    \n",
    "    #content 返回的是二进制形式的图片数据\n",
    "    #text(字符串数据)， json() (对象)\n",
    "    img_data = requests.get(url=url).content\n",
    "    \n",
    "    with open('./qiutu.jpg','wb') as fp:\n",
    "        fp.write(img_data)"
   ]
  },
  {
   "cell_type": "code",
   "execution_count": 20,
   "metadata": {},
   "outputs": [
    {
     "name": "stdout",
     "output_type": "stream",
     "text": [
      "9JC0B4UMWZSS1G03.jpg over\n",
      "1VUUQ2V7IO277W1U.jpg over\n",
      "03ZFKV7XHT0SLQUH.jpg over\n",
      "656QZC3G144MKUZQ.jpg over\n",
      "64PMIRAMNUQ79SFQ.jpg over\n",
      "4U78KV6K36OQ14EB.jpg over\n",
      "IVQ361JY3AQAGYJY.jpg over\n",
      "W0008QWXTSEW22OE.jpg over\n",
      "BYK7RFDIXORB9DL7.jpg over\n",
      "8ZQY0TNGOG4E2WX2.jpg over\n",
      "OSXU1L7SVKQYNGP7.jpg over\n",
      "SR84DPB0ZHXH1T10.jpg over\n",
      "RQ1FF8FFG5SFYOV4.jpg over\n",
      "55BQNWWIQ58V76QM.jpg over\n",
      "LMRFKREND1K72C1F.jpg over\n",
      "LBBZ8DUMBG0M6JEZ.jpg over\n",
      "KS4S42K6H6QAM845.jpg over\n",
      "M6HLN1SFPUBR3ZYY.jpg over\n",
      "KFFL026TZI9TVE6R.jpg over\n",
      "2N8TVUS7U1WXFJZY.jpg over\n",
      "LHLJXN7G4QA792MQ.jpg over\n",
      "9VJJ2CXKRXBY6G5H.jpg over\n",
      "99L9N43FKRD91I71.jpg over\n",
      "JNAD8AKX9T3W2911.jpg over\n",
      "Y50CRUQACZAYGDW6.jpg over\n",
      "TDMKRVD6OCGZ491L.jpg over\n",
      "ZZXHLKN9SFTNPQI3.jpg over\n",
      "BHGPKKYL2JEWD4DJ.jpg over\n",
      "1VKLG5IQHSNBS3WB.jpg over\n",
      "TLBI0PUALTHPBY7W.jpg over\n",
      "ONW3EAN11ARANUXC.jpg over\n",
      "CLD17BCUM33PKVL5.jpg over\n",
      "MJGU6UBFRPRBZ524.jpg over\n",
      "MOOYWTDYS73OD0M6.jpg over\n",
      "E29QN5I542PF0RVC.jpg over\n",
      "7WCL44CB7Y93AA8G.jpg over\n",
      "OQC1DZ7J8SEHAVX3.jpg over\n",
      "84P684S008M8G0LV.jpg over\n",
      "E9SRPNDBBO8SQXB1.jpg over\n",
      "0TK2G46EVJZ6GAGB.jpg over\n",
      "S4J8WW0WE8GZBDB1.jpg over\n",
      "10NI0RYRB0PW4RRN.jpg over\n",
      "ITUXQUBRZXOPE2BQ.jpg over\n",
      "2FHXC0LOK44KR7OK.jpg over\n",
      "HF332AZE58MW2BOF.jpg over\n",
      "VHKEA8FX8WMPB1GU.jpg over\n",
      "CBBS123CWEW1PFRM.jpg over\n",
      "3PI212T3939XFJYN.jpg over\n",
      "72PM3YMTGWOQN1UY.jpg over\n",
      "POT03FR10UR2WZVJ.jpg over\n"
     ]
    }
   ],
   "source": [
    "#爬取所有图片\n",
    "if __name__==\"__main__\":\n",
    "    \n",
    "    headers = {\n",
    "        'User-Agent':'Mozilla/5.0 (Windows NT 10.0; Win64; x64) AppleWebKit/537.36 (KHTML, like Gecko) Chrome/88.0.4324.190 Safari/537.36'\n",
    "    }\n",
    "    \n",
    "    #创建一个文件夹，保存所有图片\n",
    "    if not os.path.exists('./qiutuLibs'):\n",
    "        os.mkdir('./qiutuLibs')\n",
    "      \n",
    "    #设置一个通用的url模板\n",
    "    #url = 'https://www.qiushibaike.com/imgrank/'\n",
    "    url = 'https://www.qiushibaike.com/imgrank/page/%d/'\n",
    "    for pageNum in range(1,3):\n",
    "        new_url = format(url%pageNum)\n",
    "\n",
    "        #通用爬虫对url对应的一整张页面进行爬取\n",
    "        page_text = requests.get(url=new_url,headers=headers).text\n",
    "        \n",
    "        #聚焦爬虫将页面中所有的图片进行解析提取\n",
    "        ex = '<div class=\"thumb\">.*?<img src=\"(.*?)\" alt.*?</div>'\n",
    "        img_src_list = re.findall(ex, page_text, re.S)\n",
    "        #print(img_src_list)\n",
    "        \n",
    "        for src in img_src_list:\n",
    "            src='https:'+src\n",
    "            img_data = requests.get(url=src,headers=headers).content\n",
    "            img_name = src.split('/')[-1]#生成图片名称\n",
    "            imgPath = './qiutuLibs/'+img_name\n",
    "            with open(imgPath,'wb') as fp:\n",
    "                fp.write(img_data)\n",
    "                print(img_name,'over')"
   ]
  }
 ],
 "metadata": {
  "kernelspec": {
   "display_name": "Python 3",
   "language": "python",
   "name": "python3"
  },
  "language_info": {
   "codemirror_mode": {
    "name": "ipython",
    "version": 3
   },
   "file_extension": ".py",
   "mimetype": "text/x-python",
   "name": "python",
   "nbconvert_exporter": "python",
   "pygments_lexer": "ipython3",
   "version": "3.7.6"
  },
  "latex_envs": {
   "LaTeX_envs_menu_present": true,
   "autoclose": false,
   "autocomplete": true,
   "bibliofile": "biblio.bib",
   "cite_by": "apalike",
   "current_citInitial": 1,
   "eqLabelWithNumbers": true,
   "eqNumInitial": 1,
   "hotkeys": {
    "equation": "Ctrl-E",
    "itemize": "Ctrl-I"
   },
   "labels_anchors": false,
   "latex_user_defs": false,
   "report_style_numbering": false,
   "user_envs_cfg": false
  },
  "toc": {
   "base_numbering": 1,
   "nav_menu": {},
   "number_sections": true,
   "sideBar": true,
   "skip_h1_title": false,
   "title_cell": "Table of Contents",
   "title_sidebar": "Contents",
   "toc_cell": false,
   "toc_position": {},
   "toc_section_display": true,
   "toc_window_display": false
  }
 },
 "nbformat": 4,
 "nbformat_minor": 2
}
