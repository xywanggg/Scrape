{
 "cells": [
  {
   "cell_type": "markdown",
   "metadata": {},
   "source": [
    "# Selenium"
   ]
  },
  {
   "cell_type": "code",
   "execution_count": 3,
   "metadata": {},
   "outputs": [],
   "source": [
    "from selenium.webdriver import Chrome\n",
    "from lxml import etree\n",
    "from time import sleep\n",
    "from selenium.webdriver.common.keys import Keys"
   ]
  },
  {
   "cell_type": "code",
   "execution_count": 2,
   "metadata": {},
   "outputs": [
    {
     "name": "stdout",
     "output_type": "stream",
     "text": [
      "Google\n"
     ]
    }
   ],
   "source": [
    "#自动化测试工具\n",
    "#环境搭建：1)pip install ... 2)下载浏览器驱动：https://npm.taobao.org/mirrors/chromedriver 3)移动到python 文件夹\n",
    "\n",
    "#1创建浏览器对象\n",
    "web = Chrome()\n",
    "#2打开一个网站\n",
    "web.get(\"http://google.com\")\n",
    "print(web.title)\n",
    "web.close()"
   ]
  },
  {
   "cell_type": "code",
   "execution_count": 4,
   "metadata": {},
   "outputs": [
    {
     "name": "stdout",
     "output_type": "stream",
     "text": [
      "海南京润珍珠生物技术股份有限公司\n",
      "无锡邦士立生物科技有限公司\n",
      "漳州欧丽宝生物科技有限公司\n",
      "汕头市名欣化妆品有限公司\n",
      "澳宝化妆品（惠州）有限公司\n",
      "汕头市名王日化有限公司\n",
      "惠州兆婷化妆品有限公司\n",
      "青蛙王子（福建）婴童护理用品有限公司\n",
      "福建省梦娇兰日用化学品有限公司\n",
      "辽宁潍麟生物科技开发有限公司\n",
      "桂平华宝健康科技有限公司\n",
      "桂林华诺威生物技术有限公司\n",
      "珠海市傲诗美化妆品有限公司\n",
      "桂林长发小寨生物科技有限公司\n",
      "中山卡丝生物科技有限公司\n"
     ]
    }
   ],
   "source": [
    "#药监总局数据\n",
    "web = Chrome()\n",
    "web.get(\"http://scxk.nmpa.gov.cn:81/xk/\")\n",
    "\n",
    "#page_source获取浏览器获取浏览器当前页面的页面源码数据\n",
    "page_text = web.page_source\n",
    "\n",
    "#解析企业名称\n",
    "tree=etree.HTML(page_text)\n",
    "li_list = tree.xpath('//ul[@id=\"gzlist\"]/li')\n",
    "for li in li_list:\n",
    "    name = li.xpath('./dl/@title')[0]\n",
    "    print(name)\n",
    "sleep(5)   \n",
    "web.quit()"
   ]
  },
  {
   "cell_type": "code",
   "execution_count": null,
   "metadata": {},
   "outputs": [],
   "source": [
    "#自动化操作\n",
    "bro = Chrome()\n",
    "bro.get('https://www.taobao.com/')\n",
    "\n",
    "#标签定位\n",
    "search_input = bro.find_element_by_id('mq')\n",
    "#标签交换\n",
    "search_input.send_keys('Iphone')\n",
    "\n",
    "#执行一组js程序\n",
    "bro.execute_script('window.scrollTo(0,document.body.scrollHeight)')\n",
    "sleep(2)\n",
    "#点击搜索按钮\n",
    "btn = bro.find_element_by_css_selector('.btn-search')\n",
    "btn.click()\n",
    "\n",
    "bro.get('https://www.baidu.com')\n",
    "sleep(2)\n",
    "#回退\n",
    "bro.back()\n",
    "sleet(2)\n",
    "#前进\n",
    "bro.forward()\n",
    "\n",
    "sleep(5)"
   ]
  },
  {
   "cell_type": "code",
   "execution_count": 8,
   "metadata": {},
   "outputs": [],
   "source": [
    "#拉钩网爬取\n",
    "web = Chrome()\n",
    "web.get('http://lagou.com')\n",
    "\n",
    "#找到m某个元素，点击\n",
    "el = web.find_element_by_xpath('//*[@id=\"changeCityBox\"]/p[1]/a')\n",
    "el.click() #点击事件\n",
    "\n",
    "sleep(2)\n",
    "\n",
    "#找到输入框。输入python =>输入回车\n",
    "web.find_element_by_xpath('//*[@id=\"search_input\"]').send_keys('python',Keys.ENTER)\n",
    "sleep(2)\n",
    "\n",
    "#查找存放数据的位置，进行数据提取\n",
    "#找到页面中存放数据的所有的li\n",
    "li_list = web.find_elements_by_xpath('//*[@id=\"s_position_list\"]/ul/li')\n",
    "for li in li_list:\n",
    "    job_name = li.find_element_by_tag_name(\"h3\").text\n",
    "    job_price = li.find_element_by_xpath(\"./div/div/div[2]/div/span\").text\n",
    "    company_name = li.find_element_by_xpath(\"./div/div[2]/div/a\").text\n",
    "    print(company_name, job_name, job_price)\n",
    "    \n",
    "#窗口切换\n",
    "web.find_element_by_xpath('//*[@id=\"s_position_list\"]/ul/li[1]/div[1]/div[1]/div[1]/a/h3').click()\n",
    "web.switch_to.window(web.window_handles[-1])\n",
    "\n",
    "#在新窗口中提取内容\n",
    "job_detail = web.find_element_by_xpath('//*[@id=\"job_detail\"]/dd[2]/div').text\n",
    "print(job_detail)\n",
    "\n",
    "#关掉子窗口\n",
    "web.close()\n",
    "#变更selenium的窗口视角。回到原来的窗口中\n",
    "web.switch_to.window(web.window_handles[0])\n",
    "\n",
    "#如果页面中遇到了iframe\n",
    "#先拿到iframe-->切换到iframe-->拿数据\n",
    "iframe = web.find_element_by_xpath('//...')\n",
    "web.switch_to.frame(iframe)\n",
    "web.switch_to.default_content() #切换回原页面"
   ]
  },
  {
   "cell_type": "code",
   "execution_count": 16,
   "metadata": {},
   "outputs": [],
   "source": [
    "# 无头浏览器\n",
    "from selenium.webdriver import Chrome\n",
    "from selenium.webdriver.chrome.options import Options\n",
    "from selenium.webdriver.support.select import Select\n",
    "import time"
   ]
  },
  {
   "cell_type": "code",
   "execution_count": null,
   "metadata": {},
   "outputs": [],
   "source": [
    "#准备好参数配置\n",
    "opt = Options()\n",
    "opt.add_argument(\"--headless\")\n",
    "opt.add_argument(\"--disble-gpu\")\n",
    "\n",
    "web = Chrome(options=opt) #把参数配置设置到浏览器中,关闭浏览器\n",
    "web.get(\"https://www.endata.com.cn/BoxOffice/BO/Year/index.html\")\n",
    "\n",
    "#定位到下拉列表\n",
    "sel_el = web.find_element_by_xpath('//*[@id=\"OptionDate\"]')\n",
    "#对元素进行包装，包装成下拉菜单\n",
    "sel = Select(sel_el)\n",
    "#让浏览器进行调整选项\n",
    "for i in range(len(sel.options)): #i就是每一个下拉框选项的索引位置\n",
    "    sel.select_by_index(i) #按照索引进行切换\n",
    "    sleep(2)\n",
    "    table = web.find_element_by_xpath('//*[@id=\"TableList\"]/table')\n",
    "    print(table.text)\n",
    "print('over')\n",
    "web.close()\n",
    "\n",
    "#如何拿到页面原代码element(经过数据加载以及js执行之后的结果的html内容)\n",
    "print(web.page_source)"
   ]
  },
  {
   "cell_type": "code",
   "execution_count": null,
   "metadata": {},
   "outputs": [],
   "source": [
    "# 验证码\n",
    "img = web.find_element_by_xpath('xxx').screenshot_as_png #拿到验证码图片"
   ]
  },
  {
   "cell_type": "code",
   "execution_count": null,
   "metadata": {},
   "outputs": [],
   "source": [
    "#如果程序被识别到了怎么办？\n",
    "    #1. Chrome 的版本号小于88\n",
    "    #2. Chrome 的版本号大于88\n",
    "from selenium.webdriver.chrome.options import Options\n",
    "option = Options()\n",
    "#option.add_experimental_option('excludeSwitches',['enable-automation'])\n",
    "option.add_argument('--disable-blink-features=AutomationControlled')\n",
    "web = Chrome(options=option)"
   ]
  }
 ],
 "metadata": {
  "kernelspec": {
   "display_name": "Python 3",
   "language": "python",
   "name": "python3"
  },
  "language_info": {
   "codemirror_mode": {
    "name": "ipython",
    "version": 3
   },
   "file_extension": ".py",
   "mimetype": "text/x-python",
   "name": "python",
   "nbconvert_exporter": "python",
   "pygments_lexer": "ipython3",
   "version": "3.7.6"
  },
  "latex_envs": {
   "LaTeX_envs_menu_present": true,
   "autoclose": false,
   "autocomplete": true,
   "bibliofile": "biblio.bib",
   "cite_by": "apalike",
   "current_citInitial": 1,
   "eqLabelWithNumbers": true,
   "eqNumInitial": 1,
   "hotkeys": {
    "equation": "Ctrl-E",
    "itemize": "Ctrl-I"
   },
   "labels_anchors": false,
   "latex_user_defs": false,
   "report_style_numbering": false,
   "user_envs_cfg": false
  },
  "toc": {
   "base_numbering": 1,
   "nav_menu": {},
   "number_sections": true,
   "sideBar": true,
   "skip_h1_title": false,
   "title_cell": "Table of Contents",
   "title_sidebar": "Contents",
   "toc_cell": false,
   "toc_position": {},
   "toc_section_display": true,
   "toc_window_display": false
  }
 },
 "nbformat": 4,
 "nbformat_minor": 2
}
