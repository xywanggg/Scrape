{
 "cells": [
  {
   "cell_type": "code",
   "execution_count": null,
   "metadata": {},
   "outputs": [],
   "source": [
    "# *聚焦爬虫* 步骤：\n",
    "# 指定 url\n",
    "# 发起请求\n",
    "# 获取响应数据\n",
    "# 数据解析\n",
    "# 持久化储存"
   ]
  },
  {
   "cell_type": "markdown",
   "metadata": {},
   "source": [
    "## bs4"
   ]
  },
  {
   "cell_type": "code",
   "execution_count": 2,
   "metadata": {},
   "outputs": [],
   "source": [
    "from bs4 import BeautifulSoup"
   ]
  },
  {
   "cell_type": "code",
   "execution_count": null,
   "metadata": {},
   "outputs": [],
   "source": [
    "# -标签定位\n",
    "# -提取标签、标签属性中存储的数据值\n",
    "\n",
    "#step1:实例化一个beautifulsoup 对象，并且将页面源码数据加载到该对象中\n",
    "    #1.将本地的 html 文档中的数据加载到该对象中\n",
    "    fp = open('./test.html','r',encoding='utf-8')\n",
    "    soup = BeautifulSoup(fp,'lxml')\n",
    "    \n",
    "    #2.将互联网上获取的页面源码加载到该对象中\n",
    "    page_text = response.text\n",
    "    soup = BeautifulSoup(page_text, 'lxml')\n",
    "    \n",
    "#step2:通过调用beautifulsoup 对象中相关的属性或者方法进行标签定位和数据提取\n",
    "    -soup.tagName #返回文档中第一次出现tagName对应的标签\n",
    "    \n",
    "    -soup.find()\n",
    "        -soup.find('tagName') #等同于soup.tagName\n",
    "        -soup.find('tagName', class_/id/attr='xxx') #属性定位\n",
    "    -soup.find_all('tagName') #返回符合要求的所有标签（列表）\n",
    "    \n",
    "    -soup.select()\n",
    "        -soup.select('某种选择器（id,class,标签...）') #返回的是一个列表\n",
    "        -层级选择器：\n",
    "            -soup.select('.tang>ul>li>a'): > 表示的是一个层级\n",
    "            -soup.select('.tang>ul a'): 空格表示的是多个层级\n",
    "                \n",
    "    -获取标签之间的文本数据\n",
    "        -soup.a.text/get_text():获取某一个标签中所有的文本内容\n",
    "        -soup.a.string:获取标签下面直系的文本内容\n",
    "    \n",
    "    -获取标签中的属性值\n",
    "        -soup.a['xxx']\n",
    "    "
   ]
  },
  {
   "cell_type": "code",
   "execution_count": 15,
   "metadata": {},
   "outputs": [],
   "source": [
    "#爬取三国演义\n",
    "if __name__==\"__main__\":\n",
    "    url = 'http://www.shicimingju.com/book/sanguoyanyi.html'\n",
    "    headers = {\n",
    "    'User-Agent':'Mozilla/5.0 (Windows NT 10.0; Win64; x64) AppleWebKit/537.36 (KHTML, like Gecko) Chrome/88.0.4324.190 Safari/537.36'\n",
    "    }\n",
    "    page_text = requests.get(url=url, headers=headers).text\n",
    "    \n",
    "    #在首页中解析除章节的标题和详情页的url\n",
    "    #1.实例化BeautifulSoup对象；需要将页码源码数据加载到该对象中\n",
    "    soup = BeautifulSoup(page_text,'lxml')\n",
    "    #解析章节标题和详情页的url\n",
    "    li_list = soup.select('book-mulu>ul>li')\n",
    "    fp = open('./sanguo.txt','w',encoding='utf-8')\n",
    "\n",
    "    for li in li_list:\n",
    "        title = li.a.string\n",
    "        detail_url = 'https://www.shicimingju.com/'+li.a['href']\n",
    "        #对详情也发起请求，解析出章节内容\n",
    "        detail_page_text = request.get(url=detail_url,headers=headers).text\n",
    "        #解析出详情也中相关的章节内容\n",
    "        detail_soup = BeautifulSoup(detail_page_text,'lxml')\n",
    "        div_tag = detail_soup.find('div',class_='chapter_content')\n",
    "        #解析到了章节的内容\n",
    "        content = div_tag.text\n",
    "        \n",
    "        fp.write(title+':'+content+'\\n')\n",
    "        print(title,'over！')\n"
   ]
  }
 ],
 "metadata": {
  "kernelspec": {
   "display_name": "Python 3",
   "language": "python",
   "name": "python3"
  },
  "language_info": {
   "codemirror_mode": {
    "name": "ipython",
    "version": 3
   },
   "file_extension": ".py",
   "mimetype": "text/x-python",
   "name": "python",
   "nbconvert_exporter": "python",
   "pygments_lexer": "ipython3",
   "version": "3.7.6"
  },
  "latex_envs": {
   "LaTeX_envs_menu_present": true,
   "autoclose": false,
   "autocomplete": true,
   "bibliofile": "biblio.bib",
   "cite_by": "apalike",
   "current_citInitial": 1,
   "eqLabelWithNumbers": true,
   "eqNumInitial": 1,
   "hotkeys": {
    "equation": "Ctrl-E",
    "itemize": "Ctrl-I"
   },
   "labels_anchors": false,
   "latex_user_defs": false,
   "report_style_numbering": false,
   "user_envs_cfg": false
  },
  "toc": {
   "base_numbering": 1,
   "nav_menu": {},
   "number_sections": true,
   "sideBar": true,
   "skip_h1_title": false,
   "title_cell": "Table of Contents",
   "title_sidebar": "Contents",
   "toc_cell": false,
   "toc_position": {},
   "toc_section_display": true,
   "toc_window_display": false
  }
 },
 "nbformat": 4,
 "nbformat_minor": 2
}
